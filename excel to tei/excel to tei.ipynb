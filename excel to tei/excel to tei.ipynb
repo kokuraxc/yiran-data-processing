{
 "cells": [
  {
   "cell_type": "code",
   "execution_count": 9,
   "metadata": {},
   "outputs": [],
   "source": [
    "file_name = 'sg personalities_Main.xlsx'\n",
    "sheet_general = 'general-拼音修正'\n",
    "sheet_alt_name = 'alternate names'\n",
    "sheet_occupation = 'occupation (行业 or 职业)'\n",
    "sheet_work_org = 'work organization (工作单位)'\n",
    "sheet_rel_org = 'related organization 社团机构'\n",
    "sheet_off_post = 'official post (官方职衔)'\n",
    "sheet_contri = 'contribution (misc.)'\n",
    "\n",
    "import pandas as pd\n",
    "df_general = pd.read_excel(io=file_name, sheet_name = sheet_general)\n",
    "df_alt_name = pd.read_excel(io=file_name, sheet_name = sheet_alt_name)\n",
    "df_occupation = pd.read_excel(io=file_name, sheet_name = sheet_occupation)\n",
    "df_work_org = pd.read_excel(io=file_name, sheet_name = sheet_work_org)\n",
    "df_rel_org = pd.read_excel(io=file_name, sheet_name = sheet_rel_org)\n",
    "df_off_post = pd.read_excel(io=file_name, sheet_name = sheet_off_post)\n",
    "df_contri = pd.read_excel(io=file_name, sheet_name = sheet_contri)"
   ]
  },
  {
   "cell_type": "code",
   "execution_count": 17,
   "metadata": {},
   "outputs": [
    {
     "name": "stdout",
     "output_type": "stream",
     "text": [
      "民信业 \n",
      "土产杂货\n"
     ]
    }
   ],
   "source": [
    "test= df_occupation[df_occupation['person ID'] == 'C00021']['occupation name (authority name)']\n",
    "for t in test:\n",
    "    print(t)"
   ]
  },
  {
   "cell_type": "code",
   "execution_count": 44,
   "metadata": {},
   "outputs": [
    {
     "name": "stdout",
     "output_type": "stream",
     "text": [
      "{http://www.tei-c.org/ns/1.0}teiHeader {}\n",
      "{http://www.tei-c.org/ns/1.0}fileDesc {}\n",
      "{http://www.tei-c.org/ns/1.0}encodingDesc {}\n",
      "{http://www.tei-c.org/ns/1.0}text {}\n",
      "{http://www.tei-c.org/ns/1.0}body {}\n",
      "李大傻\n",
      "{'{http://www.w3.org/XML/1998/namespace}lang': 'zh-Hant'}\n",
      "{'{http://www.w3.org/XML/1998/namespace}lang': 'zh-Hans'}\n",
      "{'type': 'standardEn'}\n",
      "{'subtype': 'pinyin', 'type': 'altName'}\n",
      "{http://www.tei-c.org/ns/1.0}persName {'{http://www.w3.org/XML/1998/namespace}lang': 'zh-Hant'} text heloghellkd\n",
      "{http://www.tei-c.org/ns/1.0}persName {'{http://www.w3.org/XML/1998/namespace}lang': 'zh-Hans'} 李大傻\n",
      "{http://www.tei-c.org/ns/1.0}persName {'type': 'standardEn'} Lee Dai Soh\n",
      "{http://www.tei-c.org/ns/1.0}persName {'subtype': 'pinyin', 'type': 'altName'} Li Dasha\n"
     ]
    }
   ],
   "source": [
    "import xml.etree.ElementTree as et\n",
    "et.register_namespace('',\"http://www.tei-c.org/ns/1.0\")\n",
    "tree = et.parse('sbdbTEI_wVIAF.xml')\n",
    "root = tree.getroot()\n",
    "for child in root:\n",
    "    print(child.tag, child.attrib)\n",
    "    for c in child:\n",
    "        print(c.tag, c.attrib)\n",
    "\n",
    "people = [person for person in root.iter('{http://www.tei-c.org/ns/1.0}persName')]\n",
    "# for p in people:\n",
    "#     print(p.tag, p.attrib, p.text)\n",
    "print(people[1].text)\n",
    "\n",
    "people = [person for person in root.iter('{http://www.tei-c.org/ns/1.0}person')]\n",
    "persnames = [p for p in people[0].iter('{http://www.tei-c.org/ns/1.0}persName')]\n",
    "for pn in persnames:\n",
    "    print(pn.attrib)\n",
    "for pn in persnames:\n",
    "    if('{http://www.w3.org/XML/1998/namespace}lang' in pn.attrib):\n",
    "        if(pn.attrib['{http://www.w3.org/XML/1998/namespace}lang'] == 'zh-Hant'):\n",
    "            pn.text = 'text heloghellkd' \n",
    "for pn in persnames:\n",
    "    print(pn.tag, pn.attrib, pn.text)"
   ]
  },
  {
   "cell_type": "code",
   "execution_count": null,
   "metadata": {},
   "outputs": [],
   "source": [
    "for person in root.iter('{http://www.tei-c.org/ns/1.0}person'):\n",
    "    name = person.get('xml:id')\n",
    "    nodeid = person.get('{http://www.w3.org/XML/1998/namespace}id')\n",
    "    #if nodeid in di:\n",
    "        #print(nodeid + ', ' + str(di[nodeid]))\n",
    "    for idno in person.findall('{http://www.tei-c.org/ns/1.0}idno'):\n",
    "        if (idno.attrib['type'] == 'VIAF') and (nodeid in di):\n",
    "            # print(idno.attrib)\n",
    "            idno.text = str(di[nodeid])"
   ]
  }
 ],
 "metadata": {
  "kernelspec": {
   "display_name": "Python 3",
   "language": "python",
   "name": "python3"
  },
  "language_info": {
   "codemirror_mode": {
    "name": "ipython",
    "version": 3
   },
   "file_extension": ".py",
   "mimetype": "text/x-python",
   "name": "python",
   "nbconvert_exporter": "python",
   "pygments_lexer": "ipython3",
   "version": "3.7.3"
  }
 },
 "nbformat": 4,
 "nbformat_minor": 2
}
